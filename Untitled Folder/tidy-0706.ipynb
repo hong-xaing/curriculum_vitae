{
 "cells": [
  {
   "cell_type": "code",
   "execution_count": null,
   "id": "010f8aec",
   "metadata": {
    "scrolled": true
   },
   "outputs": [],
   "source": [
    "#印出你要的結果\n",
    "print(1)"
   ]
  },
  {
   "cell_type": "code",
   "execution_count": null,
   "id": "92c452c7",
   "metadata": {},
   "outputs": [],
   "source": [
    "#變數 開頭不能位數字或是常有的函式庫\n",
    "a = 2023\n",
    "b = 9\n",
    "c = 16\n",
    "print(\"今年是：\",a,\"年\",b,\"月\",c,\"日\")"
   ]
  },
  {
   "cell_type": "code",
   "execution_count": null,
   "id": "de9e38d0",
   "metadata": {},
   "outputs": [],
   "source": [
    "#加減乘除....餘數....整數....浮點數\n",
    "print(\"加法 5+2=\",5+2)\n",
    "print(\"減法 5-2=\",5-2)\n",
    "print(\"乘法 5*2=\",5*2)\n",
    "print(\"除法 5/2=\",5/2) #浮點數\n",
    "print(\"商數 5//2=\",5//2) #整數\n",
    "print(\"餘數 5%2=\",5%2)"
   ]
  },
  {
   "cell_type": "code",
   "execution_count": null,
   "id": "e52e8090",
   "metadata": {},
   "outputs": [],
   "source": [
    "x = 1\n",
    "y = x\n",
    "print(x,y)\n",
    "x = 3\n",
    "print(x,y)\n",
    "y = 5\n",
    "x = y \n",
    "print(x,y)\n",
    "x = 7 \n",
    "print(x,y)"
   ]
  },
  {
   "cell_type": "code",
   "execution_count": null,
   "id": "02257e12",
   "metadata": {
    "scrolled": true
   },
   "outputs": [],
   "source": [
    "#假如一個早餐點的鍋貼是35元,豆漿是15元,小明今天想吃4個鍋貼,3杯豆漿請問他總共要付多少錢\n",
    "x = 35 #鍋貼\n",
    "y = 15 #豆漿\n",
    "total = (x*4+y*3)\n",
    "print (total,\"元\")"
   ]
  },
  {
   "cell_type": "code",
   "execution_count": null,
   "id": "5ef2449d",
   "metadata": {},
   "outputs": [],
   "source": [
    "#練習題\n",
    "#飲料35元,牛奶50元,多多55元,袋子2元,自備杯子一個杯子折5元,身上只有1000元請問我會找回多少錢\n",
    "drink = 35\n",
    "milk = 50\n",
    "duoduo = 55\n",
    "box = 2\n",
    "cup = -5\n",
    "\n",
    "print(1000-(drink*2+milk*3+duoduo*1+box*1+cup*5))"
   ]
  },
  {
   "cell_type": "code",
   "execution_count": null,
   "id": "15089fe7",
   "metadata": {
    "scrolled": true
   },
   "outputs": [],
   "source": [
    "#這些是常用的詞彙不能拿來當作變數使用\n",
    "help(\"keywords\")"
   ]
  },
  {
   "cell_type": "code",
   "execution_count": null,
   "id": "3755ba50",
   "metadata": {},
   "outputs": [],
   "source": [
    "#字串(str)\n",
    "print(\"age\")"
   ]
  },
  {
   "cell_type": "code",
   "execution_count": null,
   "id": "8a72c1aa",
   "metadata": {},
   "outputs": [],
   "source": [
    "text = \"abcdefghij\"\n",
    "print(text[0])\n",
    "print(text[1])\n",
    "print(text[2])"
   ]
  },
  {
   "cell_type": "code",
   "execution_count": null,
   "id": "205c37ae",
   "metadata": {},
   "outputs": [],
   "source": [
    "text = \"abcdefghij\"\n",
    "short_text = text[2:-3]\n",
    "print (\"範圍:從左邊數來第3個從右邊數來第3個停下\",short_text) #python 是從0開始算\n",
    "print(\"------------------------------------------\")\n",
    "text = \"abcdefghij\"\n",
    "short_text = text[:3]\n",
    "print (\"範圍:不管後面有多少數字我只找前面3個就停下\",short_text) #意思就是0:3頭到3\n",
    "print(\"------------------------------------------\")\n",
    "text = \"abcdefghij\"\n",
    "short_text = text[-2:]\n",
    "print (\"範圍:不管後面有多少數字我只找最後2個就停下\",short_text) #意思就是-2:max,-2到尾"
   ]
  },
  {
   "cell_type": "code",
   "execution_count": null,
   "id": "c600ad09",
   "metadata": {},
   "outputs": [],
   "source": [
    "# 字串的連接\n",
    "# a = input() #input是輸入你想輸入的數字或是文字\n",
    "\n",
    "print (\"hi what is your name ?\")\n",
    "name = input() \n",
    "print(\"hello,\" , name ,\" nice to meet you . \")  # \",\" 前後會有多空白\n",
    "print(\"hello,\" + name +\" nice to meet you . \")  # \"+\" 會緊貼著前後的字,如果要空白就要自己補上"
   ]
  },
  {
   "cell_type": "code",
   "execution_count": null,
   "id": "6972e2d3",
   "metadata": {},
   "outputs": [],
   "source": [
    "#跟上面學的變數一樣概念\n",
    "print(\"please tell me your name:\")\n",
    "name = input()\n",
    "print(\"please tell me you age:\")\n",
    "age = input()\n",
    "print (\"Here is your introduction:\")\n",
    "intro = \"My Name is \"+ name +\".\"\n",
    "intro = intro +\" I'm \"+ age +\" years old.\"\n",
    "print(\"Nice meet you .\",intro)"
   ]
  },
  {
   "cell_type": "code",
   "execution_count": null,
   "id": "874a8256",
   "metadata": {},
   "outputs": [],
   "source": [
    "#數字的運用\n",
    "print (\"first number : \")\n",
    "sum1 = input()\n",
    "sum1 = float(sum1)\n",
    "\n",
    "print (\"second number : \")\n",
    "sum2 = input()\n",
    "sum2 = float(sum2)\n",
    "\n",
    "print(sum1 * sum2)  "
   ]
  },
  {
   "cell_type": "code",
   "execution_count": null,
   "id": "42e55ccd",
   "metadata": {
    "scrolled": true
   },
   "outputs": [],
   "source": [
    "# 計算出你退休年齡\n",
    "print (\"please tell me your birth year:\")\n",
    "year = input()\n",
    "re_year = int(year)+65\n",
    "print (type(re_year))\n",
    "re_year = str(re_year)   \n",
    "print (type(re_year))\n",
    "print (\"your retirement year is: \"+ re_year +\" cheer up!\")"
   ]
  },
  {
   "cell_type": "code",
   "execution_count": null,
   "id": "3485efd6",
   "metadata": {},
   "outputs": [],
   "source": [
    "#組合練習\n",
    "print (\"what is your name?\")\n",
    "name =input ()\n",
    "print(\"------------------------------------------\")\n",
    "\n",
    "print (\"what is your pet?\")\n",
    "pet = input()\n",
    "print(\"------------------------------------------\")\n",
    "\n",
    "print(\"what is the name of your pet?\")\n",
    "pet_name=input()\n",
    "print(\"------------------------------------------\")\n",
    "\n",
    "print(\"what is your birth year?\")\n",
    "birth_year = input()\n",
    "re_retirement = int(birth_year)+65\n",
    "re_retirement = str(re_retirement)\n",
    "print (\"Your retirement year is: \"+re_retirement )\n",
    "print(\"------------------------------------------\")\n",
    "print (\"My name is \" + name + \".\\n\" +\"My pet is a \"+ pet +\" and its name is \"+\n",
    "       pet_name + \".\\n\" + \"My retirement year is \"+ re_retirement)\n"
   ]
  },
  {
   "cell_type": "code",
   "execution_count": null,
   "id": "1e3afcba",
   "metadata": {},
   "outputs": [],
   "source": [
    "#list 清單\n",
    "my_list = [41, \"pp\", -5.25 , \"pp\"]\n",
    "print (my_list)\n",
    "\n",
    "fruit_and_calori_i_love = ['banana', 40,'grapefruit', 42,'kiwi', 61 , 'apple', 67]\n",
    "print (fruit_and_calori_i_love)\n",
    "\n",
    "print (fruit_and_calori_i_love[0],fruit_and_calori_i_love[1])"
   ]
  },
  {
   "cell_type": "code",
   "execution_count": null,
   "id": "df2d995d",
   "metadata": {},
   "outputs": [],
   "source": [
    "#{} dictionary 字典    註: key : value  key只能一個value可以很多\n",
    "mcdonalds_calorii={'hanburger': 250,\"fries\": 320,\"ice_cream\":200}\n",
    "y = input()\n",
    "y1 = str(y)\n",
    "x = mcdonalds_calorii[y1]\n",
    "print (x)\n",
    "print (mcdonalds_calorii)"
   ]
  },
  {
   "cell_type": "code",
   "execution_count": null,
   "id": "ec822625",
   "metadata": {},
   "outputs": [],
   "source": [
    "lista=[1,\"234\",3]\n",
    "dica = {\"a\":3.14}\n",
    "print(\"這是一個list:\"+str(lista[1][1])+\"\\n\"+\"這是一個dictionary:\"+str(dica[\"a\"]))"
   ]
  },
  {
   "cell_type": "code",
   "execution_count": null,
   "id": "47ff0dc9",
   "metadata": {},
   "outputs": [],
   "source": [
    "#請幫我選取並合併成完整的python\n",
    "list1=[\"a\",\"b,c\",\"d\",\"e\",{\"f\":[\"g\",\"h\"],\"i\":\"j\",\"k,l\":{\"m\":[\"n\",\"o\",\"p\"]},\"q\":\"r\"},\"s\",[\"t,u\",\"v\",\"w\"],\"x\",\"y,z\"]\n",
    "#         0    1.   2.  3.   4.0.            4.1.         4.2.                 4.3    5.    6.            7.   8\n",
    "# python\n",
    "\n",
    "print(list1[4][\"k,l\"][\"m\"][2]+\n",
    "      list1[8][0]+\n",
    "      list1[6][0][0]+\n",
    "      list1[4][\"f\"][1]+\n",
    "      list1[4][\"k,l\"][\"m\"][1]+\n",
    "      list1[4][\"k,l\"][\"m\"][0])\n",
    "\n",
    "print(list1[4][\"k,l\"][\"m\"][2])\n",
    "print(list1[8][0])\n",
    "print(list1[6][0][0])\n",
    "print(list1[4][\"f\"][1])\n",
    "print(list1[4][\"k,l\"][\"m\"][1])\n",
    "print(list1[4][\"k,l\"][\"m\"][0])"
   ]
  },
  {
   "cell_type": "code",
   "execution_count": null,
   "id": "0d578956",
   "metadata": {},
   "outputs": [],
   "source": []
  },
  {
   "cell_type": "code",
   "execution_count": null,
   "id": "5ed44744",
   "metadata": {},
   "outputs": [],
   "source": []
  }
 ],
 "metadata": {
  "kernelspec": {
   "display_name": "Python 3 (ipykernel)",
   "language": "python",
   "name": "python3"
  },
  "language_info": {
   "codemirror_mode": {
    "name": "ipython",
    "version": 3
   },
   "file_extension": ".py",
   "mimetype": "text/x-python",
   "name": "python",
   "nbconvert_exporter": "python",
   "pygments_lexer": "ipython3",
   "version": "3.10.9"
  }
 },
 "nbformat": 4,
 "nbformat_minor": 5
}
