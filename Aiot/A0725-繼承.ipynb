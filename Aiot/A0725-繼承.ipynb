{
 "cells": [
  {
   "cell_type": "code",
   "execution_count": null,
   "id": "76105323",
   "metadata": {},
   "outputs": [],
   "source": [
    "class Calculator:\n",
    "    def set_value(self,a,b):\n",
    "        self.value1 = a \n",
    "        self.value2 = b \n",
    "\n",
    "class AddCalculator(Calculator):\n",
    "    def add(self):\n",
    "        print(self.value1+self.value2)\n",
    "        \n",
    "calculate1 =  AddCalculator()\n",
    "calculate1.set_value(3,4)\n",
    "calculate1.add()"
   ]
  },
  {
   "cell_type": "code",
   "execution_count": 4,
   "id": "32b96e0d",
   "metadata": {},
   "outputs": [
    {
     "name": "stdout",
     "output_type": "stream",
     "text": [
      "請輸入1:GoldOz,2:steak :1\n",
      "請輸入Oz:2\n",
      "62\n"
     ]
    }
   ],
   "source": [
    "class OzToGram:\n",
    "    def set_oz(self,oz):\n",
    "        self.Oz = oz\n",
    "class GoldOz(OzToGram): \n",
    "    def get_gram(self): \n",
    "        return(self.Oz *31)\n",
    "# 31G\n",
    "class steak(OzToGram): \n",
    "    def get_gram(self): \n",
    "        return(self.Oz *28)\n",
    "# 28G\n",
    "choose = input(\"請輸入1:GoldOz,2:steak :\") \n",
    "gram = input(\"請輸入Oz:\") \n",
    "if choose == \"1\": \n",
    "    oz = GoldOz() \n",
    "elif choose == \"steak\": \n",
    "    oz = steak()\n",
    "oz.set_oz(int(gram)) \n",
    "print(oz.get_gram())"
   ]
  },
  {
   "cell_type": "code",
   "execution_count": null,
   "id": "7700f389",
   "metadata": {},
   "outputs": [],
   "source": [
    "class OzToGram:\n",
    "    def set_oz(self,oz):\n",
    "        self.Oz = oz\n",
    "class GoldOz(OzToGram):\n",
    "    def get_gram(self):\n",
    "        print(self.Oz *31)\n",
    "# 30G        \n",
    "\n",
    "class steak(OzToGram):\n",
    "    def get_gram(self):\n",
    "        print(self.Oz *28)\n",
    "# 28G\n",
    "\n",
    "\n",
    "oz = GoldOz()\n",
    "oz.set_oz(1)\n",
    "oz.get_gram()\n",
    "\n",
    "oz = steak()\n",
    "oz.set_oz(1)\n",
    "oz.get_gram()"
   ]
  }
 ],
 "metadata": {
  "kernelspec": {
   "display_name": "Python 3 (ipykernel)",
   "language": "python",
   "name": "python3"
  },
  "language_info": {
   "codemirror_mode": {
    "name": "ipython",
    "version": 3
   },
   "file_extension": ".py",
   "mimetype": "text/x-python",
   "name": "python",
   "nbconvert_exporter": "python",
   "pygments_lexer": "ipython3",
   "version": "3.10.9"
  }
 },
 "nbformat": 4,
 "nbformat_minor": 5
}
