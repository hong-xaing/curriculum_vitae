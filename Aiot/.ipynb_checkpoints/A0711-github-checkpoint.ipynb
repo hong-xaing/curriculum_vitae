{
 "cells": [
  {
   "cell_type": "code",
   "execution_count": 1,
   "id": "bcfb1d27",
   "metadata": {},
   "outputs": [
    {
     "name": "stdout",
     "output_type": "stream",
     "text": [
      "請輸入終端機簡稱：cam\n",
      "答錯了\n",
      "請輸入終端機簡稱：cmd\n",
      "答對了\n",
      "進入終端機後需要檢查當前所有檔案的指令：ls\n",
      "答對了\n",
      "確認檔案有無被修改過的指令：s\n",
      "答錯了\n",
      "確認檔案有無被修改過的指令：git status\n",
      "答對了\n"
     ]
    }
   ],
   "source": [
    "# print(\"hello wrold\")\n",
    "while 1:\n",
    "    x = input(\"請輸入終端機簡稱：\")  \n",
    "    if x == \"cmd\" or x == \"iterm\" :\n",
    "        print(\"答對了\")\n",
    "        break\n",
    "    else :\n",
    "        print(\"答錯了\")\n",
    "while 1:    \n",
    "    y = input(\"進入終端機後需要檢查當前所有檔案的指令：\")\n",
    "    if y ==  \"ls\":\n",
    "        print(\"答對了\")\n",
    "        break\n",
    "    else :\n",
    "        print(\"答錯了\")\n",
    "while 1:\n",
    "    z = input(\"確認檔案有無被修改過的指令：\")\n",
    "    if z == \"git status\" :\n",
    "        print(\"答對了\")\n",
    "        break\n",
    "    else :\n",
    "        print(\"答錯了\")\n"
   ]
  },
  {
   "cell_type": "code",
   "execution_count": null,
   "id": "46cd4802",
   "metadata": {},
   "outputs": [],
   "source": [
    "https://sourceforge.net/projects/git-osx-installer/\n",
    "iterm or cam      終端機\n",
    "指令\n",
    "git        確認是否下載\n",
    "ls         確認當前檔案\n",
    "cd /link   到下一頁\n",
    "cd ..      回到上一頁\n",
    "mkdir \"filename\" 新增資料夾\n",
    "git init   開始備份git\n",
    "git status 確認有沒有修改過資料並準備備份(紅色沒有,綠色有)\n",
    "git add .  要開始備份囉\n",
    "git commit -m \"vi\" 備份的名稱\n",
    "git remote add origin + 網址\n",
    "git config --global user.email \"你的email\"\n",
    "git config --global user.name \"你的名字\"\n",
    "git reset --hard afa5be1 取備份\n",
    "git reflog  取之前的備份 q是退出\n",
    "-------重要。要讀取前要先存檔備份\n",
    "git blame \"名字\"  看是誰寫的程式碼 "
   ]
  },
  {
   "cell_type": "code",
   "execution_count": null,
   "id": "e785d7c3",
   "metadata": {},
   "outputs": [],
   "source": [
    "github\n",
    "\n",
    "libmodbus    \n",
    "git clone \"網址\"https://  下載github\n",
    "git blame \"檔案名稱\"   修改版本\n",
    "git push  \n",
    "git push origin master 更新檔案需要變更版本\n",
    "git pull  遠端的可以更新\n",
    "git branch 列出分支\n",
    "git switch + name 切換分支\n",
    "git checkout + name 切換分支\n",
    "git checkout -b + name  新建分支\n",
    "git switch -c master origin/master\n",
    "git branch -v -a\n",
    "git fetch origin\n",
    "git merge mian 合併分支\n",
    "rm .DS_Store 刪除檔案\n",
    "git.tag \n",
    "# https://git-scm.com/book/zh-tw/v2/Git-%E5%9F%BA%E7%A4%8E-%E6%A8%99%E7%B1%A4\n",
    "操作順序：\n",
    "\n",
    "setting \n",
    "token\n",
    "命名\n",
    "權限時間\n",
    "權限\n",
    "your profile\n",
    "mark down 純文字黨\n",
    "your repositoties\n",
    "選擇檔案\n",
    "add a README 新增說明\n",
    "\n",
    "github desktop mac"
   ]
  },
  {
   "cell_type": "code",
   "execution_count": null,
   "id": "15b67e20",
   "metadata": {},
   "outputs": [],
   "source": [
    "問題：要怎麼切換github\n",
    "重複檔案怎麼辦\n",
    "在電腦做更新。卻在無法push\n"
   ]
  },
  {
   "cell_type": "code",
   "execution_count": null,
   "id": "a3cefea3",
   "metadata": {},
   "outputs": [],
   "source": [
    "git init 存檔\n",
    "\n",
    "git status 看狀態\n",
    "\n",
    "git add .確認備份\n",
    "\n",
    "git config --global user.email 後面要輸入自己設的電郵\n",
    "\n",
    "git config --global user.name  後面要輸入自己的名字\n",
    "\n",
    "git commit -m \"v1\" 確認備份\n",
    "\n",
    "gitk 所有檔案\n",
    "\n",
    "git reset --hard 版本號碼 (切換版本\n",
    "\n",
    "git reflog 尋找遺失的檔案\n",
    "\n",
    "git blame + (檔案名稱)\n",
    "\n",
    "git clone +(URL)下載網址\n",
    "\n",
    "cd 切換資料夾\n",
    "\n",
    "cd ..回到上一層資料\n",
    "\n",
    "git push 送上網路"
   ]
  }
 ],
 "metadata": {
  "kernelspec": {
   "display_name": "Python 3 (ipykernel)",
   "language": "python",
   "name": "python3"
  },
  "language_info": {
   "codemirror_mode": {
    "name": "ipython",
    "version": 3
   },
   "file_extension": ".py",
   "mimetype": "text/x-python",
   "name": "python",
   "nbconvert_exporter": "python",
   "pygments_lexer": "ipython3",
   "version": "3.11.4"
  }
 },
 "nbformat": 4,
 "nbformat_minor": 5
}
