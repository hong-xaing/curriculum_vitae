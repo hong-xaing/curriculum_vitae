{
 "cells": [
  {
   "cell_type": "code",
   "execution_count": null,
   "id": "e7f8dcdc",
   "metadata": {},
   "outputs": [],
   "source": [
    "qt\n",
    "\n",
    "\n",
    "https://build-system.fman.io/qt-designer-download\n",
    "    \n",
    "    \n",
    "push botton\n",
    "建立按鈕\n",
    "line Edit\n",
    "建立輸入文字\n",
    "label\n",
    "建立標籤\n",
    "    pixmap\n",
    "    放入圖片"
   ]
  }
 ],
 "metadata": {
  "kernelspec": {
   "display_name": "Python 3 (ipykernel)",
   "language": "python",
   "name": "python3"
  },
  "language_info": {
   "codemirror_mode": {
    "name": "ipython",
    "version": 3
   },
   "file_extension": ".py",
   "mimetype": "text/x-python",
   "name": "python",
   "nbconvert_exporter": "python",
   "pygments_lexer": "ipython3",
   "version": "3.10.9"
  }
 },
 "nbformat": 4,
 "nbformat_minor": 5
}
