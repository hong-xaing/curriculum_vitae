{
 "cells": [
  {
   "cell_type": "code",
   "execution_count": null,
   "id": "dd00d47f",
   "metadata": {},
   "outputs": [],
   "source": [
    "10分鐘email\n",
    "https://10minutemail.net/?lang=zh-tw\n",
    "\n",
    "Rhino\n",
    "https://www.rhino3d.com/tw/download/\n",
    "    afs59340@zslsz.com\n",
    "指令:\n",
    "ExtrudeCrv\n",
    "Cap（建立擠出）\n",
    "布林運算差集(刪除擠出)\n"
   ]
  }
 ],
 "metadata": {
  "kernelspec": {
   "display_name": "Python 3 (ipykernel)",
   "language": "python",
   "name": "python3"
  },
  "language_info": {
   "codemirror_mode": {
    "name": "ipython",
    "version": 3
   },
   "file_extension": ".py",
   "mimetype": "text/x-python",
   "name": "python",
   "nbconvert_exporter": "python",
   "pygments_lexer": "ipython3",
   "version": "3.10.9"
  }
 },
 "nbformat": 4,
 "nbformat_minor": 5
}
