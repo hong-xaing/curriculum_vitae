{
 "cells": [
  {
   "cell_type": "code",
   "execution_count": null,
   "id": "59e31722",
   "metadata": {},
   "outputs": [],
   "source": [
    "def start():\n",
    "    print(\"hi master\")\n",
    "    print(\"let's start the game\")\n",
    "\n",
    "start()\n",
    "\n",
    "def add_1(a): #a = 1\n",
    "    b = 1 \n",
    "    c = a+b\n",
    "    print (c)\n",
    "    \n",
    "add_1(1)"
   ]
  },
  {
   "cell_type": "code",
   "execution_count": null,
   "id": "de401b6c",
   "metadata": {},
   "outputs": [],
   "source": [
    "# 輸入input 是True 就顯示晴天 False 就顯示 雨天 輸入其他的就顯示錯誤\n",
    "a = input(\"please enter : \")\n",
    "def weather(a):\n",
    "    if a == \"True\" or a == \"true\":\n",
    "        print(\"sunny\")\n",
    "    elif a == \"False\" or a == \"false\":\n",
    "        print(\"rainny\")\n",
    "    else:\n",
    "        print(\"error\")\n",
    "weather(a)\n"
   ]
  },
  {
   "cell_type": "code",
   "execution_count": 1,
   "id": "8d83efbd",
   "metadata": {},
   "outputs": [
    {
     "name": "stdout",
     "output_type": "stream",
     "text": [
      "please enter A number : 1\n",
      "please enter B number : 2\n",
      "70min\n"
     ]
    }
   ],
   "source": [
    "# 變數1 輸入小時 , 變數2 : 輸入1 的時候 1 hr = 60 min , 輸入2  1hr = 70 min\n",
    "hr = int(input(\"please enter A number : \"))\n",
    "location = input(\"please enter B number : \")\n",
    "def hour(hr,location):\n",
    "    if location == \"1\":\n",
    "        location = 60\n",
    "        c = hr * location\n",
    "        print(str(c)+\"min\")\n",
    "    elif location == \"2\":\n",
    "        location = 70\n",
    "        c = hr * location\n",
    "        print(str(c)+\"min\")\n",
    "    else:\n",
    "        print(\"error\")\n",
    "hour(hr,location)"
   ]
  },
  {
   "cell_type": "code",
   "execution_count": 3,
   "id": "5ca59421",
   "metadata": {},
   "outputs": [
    {
     "name": "stdout",
     "output_type": "stream",
     "text": [
      "請輸入A1\n",
      "請輸入B2\n",
      "請輸入1 OR 22\n",
      "-1\n"
     ]
    }
   ],
   "source": [
    "a = int(input(\"請輸入A\"))\n",
    "b = int(input(\"請輸入B\"))\n",
    "choose = input(\"請輸入1 OR 2\")\n",
    "def calculate(a,b,choose):\n",
    "    if choose == \"1\":\n",
    "        c = a+b\n",
    "#         print(c)\n",
    "        return c\n",
    "    elif choose == \"2\":\n",
    "        d = a-b\n",
    "#         print(d)\n",
    "        return d\n",
    "\n",
    "result = calculate(a,b,choose) \n",
    "print (result)"
   ]
  },
  {
   "cell_type": "code",
   "execution_count": null,
   "id": "a1cfcf18",
   "metadata": {},
   "outputs": [],
   "source": [
    "# 變數1 輸入小時 , 變數2 : 輸入1 的時候 1 hr = 60 min , 輸入2  1hr = 70 min\n",
    "# hr = int(input(\"please enter A number : \"))\n",
    "# location = input(\"please enter B number : \")\n",
    "# def hour(hr,location):\n",
    "#     if location == \"1\":\n",
    "#         location = 60\n",
    "#         c = hr * location\n",
    "#         print(str(c)+\"min\")\n",
    "#     elif location == \"2\":\n",
    "#         location = 70\n",
    "#         c = hr * location\n",
    "#         print(str(c)+\"min\")\n",
    "#     else:\n",
    "#         print(\"error\")\n",
    "# hour(hr,location)\n",
    "# a = int(input(\"請輸入A\"))\n",
    "# b = int(input(\"請輸入B\"))\n",
    "# choose = input(\"請輸入1 OR 2\")\n",
    "# def calculate(a,b,choose):\n",
    "#     if choose == \"1\":\n",
    "#         c = a+b\n",
    "#         print(c)\n",
    "#         return c\n",
    "\n",
    "#     elif choose == \"2\":\n",
    "#         d = a-b\n",
    "#         print(d)\n",
    "#         return d\n",
    "\n",
    "# result = calculate(a,b,choose) \n",
    "# print (result)\n",
    "\n",
    "\n",
    "class Email:\n",
    "    def set_address(self,address):\n",
    "        print(address)\n",
    "    def set_name(self,firstName,lastName):\n",
    "        print(\"你的名字:\"+firstName)\n",
    "        print(\"你的姓氏:\"+lastName)\n",
    "        # self.mailLastName\n",
    "toTaichungMail = Email()\n",
    "toTaichungMail.set_address(\"台中市西屯區\")\n",
    "youname = Email()\n",
    "# firstName =input(\"請輸入你的名字 : \")\n",
    "# lastName = input(\"請輸入你的姓氏 : \")\n",
    "# youname.set_name(firstName,lastName)\n",
    "youname.set_name(\"鴻祥\",\"呂\")\n",
    "\n"
   ]
  }
 ],
 "metadata": {
  "kernelspec": {
   "display_name": "Python 3 (ipykernel)",
   "language": "python",
   "name": "python3"
  },
  "language_info": {
   "codemirror_mode": {
    "name": "ipython",
    "version": 3
   },
   "file_extension": ".py",
   "mimetype": "text/x-python",
   "name": "python",
   "nbconvert_exporter": "python",
   "pygments_lexer": "ipython3",
   "version": "3.10.9"
  }
 },
 "nbformat": 4,
 "nbformat_minor": 5
}
