{
 "cells": [
  {
   "cell_type": "code",
   "execution_count": 2,
   "id": "e1ca3bb2",
   "metadata": {},
   "outputs": [],
   "source": [
    "href=\"/imgres?imgurl=https%3A%2F%2Fugc-media.4gamers.com.tw%2Fpuku-prod-zh%2Fmember%2FgX2PQnQ7FapzgjbbZUWYrzbYmXA%2Fmondou%2F803dbd99-af8d-42e0-984f-0fbe58e834d7.jpg&amp;tbnid=rFIMGhwezeJwtM&amp;vet=12ahUKEwi3suT6zNOAAxUw0DQHHVaWBmYQMygAegUIARD1AQ..i&amp;imgrefurl=https%3A%2F%2Fwww.4gamers.com.tw%2Fsaged%2Fdetail%2Foedr146r71937l&amp;docid=itYsrRt0crXOuM&amp;w=1280&amp;h=1280&amp;q=%E7%8B%97&amp;hl=zh-TW&amp;ved=2ahUKEwi3suT6zNOAAxUw0DQHHVaWBmYQMygAegUIARD1AQ\" \n"
   ]
  },
  {
   "cell_type": "code",
   "execution_count": null,
   "id": "c6c65aef",
   "metadata": {},
   "outputs": [],
   "source": []
  },
  {
   "cell_type": "code",
   "execution_count": 15,
   "id": "f3923bf7",
   "metadata": {},
   "outputs": [
    {
     "name": "stdout",
     "output_type": "stream",
     "text": [
      "textarea\n",
      "[<selenium.webdriver.remote.webelement.WebElement (session=\"8df30cf41e2dc058d75296ff67db6830\", element=\"85F1F17B43E5B35AB14952950C637F6E_element_175\")>, <selenium.webdriver.remote.webelement.WebElement (session=\"8df30cf41e2dc058d75296ff67db6830\", element=\"85F1F17B43E5B35AB14952950C637F6E_element_176\")>, <selenium.webdriver.remote.webelement.WebElement (session=\"8df30cf41e2dc058d75296ff67db6830\", element=\"85F1F17B43E5B35AB14952950C637F6E_element_141\")>, <selenium.webdriver.remote.webelement.WebElement (session=\"8df30cf41e2dc058d75296ff67db6830\", element=\"85F1F17B43E5B35AB14952950C637F6E_element_146\")>, <selenium.webdriver.remote.webelement.WebElement (session=\"8df30cf41e2dc058d75296ff67db6830\", element=\"85F1F17B43E5B35AB14952950C637F6E_element_151\")>, <selenium.webdriver.remote.webelement.WebElement (session=\"8df30cf41e2dc058d75296ff67db6830\", element=\"85F1F17B43E5B35AB14952950C637F6E_element_154\")>, <selenium.webdriver.remote.webelement.WebElement (session=\"8df30cf41e2dc058d75296ff67db6830\", element=\"85F1F17B43E5B35AB14952950C637F6E_element_157\")>, <selenium.webdriver.remote.webelement.WebElement (session=\"8df30cf41e2dc058d75296ff67db6830\", element=\"85F1F17B43E5B35AB14952950C637F6E_element_160\")>, <selenium.webdriver.remote.webelement.WebElement (session=\"8df30cf41e2dc058d75296ff67db6830\", element=\"85F1F17B43E5B35AB14952950C637F6E_element_163\")>, <selenium.webdriver.remote.webelement.WebElement (session=\"8df30cf41e2dc058d75296ff67db6830\", element=\"85F1F17B43E5B35AB14952950C637F6E_element_165\")>, <selenium.webdriver.remote.webelement.WebElement (session=\"8df30cf41e2dc058d75296ff67db6830\", element=\"85F1F17B43E5B35AB14952950C637F6E_element_167\")>, <selenium.webdriver.remote.webelement.WebElement (session=\"8df30cf41e2dc058d75296ff67db6830\", element=\"85F1F17B43E5B35AB14952950C637F6E_element_177\")>, <selenium.webdriver.remote.webelement.WebElement (session=\"8df30cf41e2dc058d75296ff67db6830\", element=\"85F1F17B43E5B35AB14952950C637F6E_element_178\")>, <selenium.webdriver.remote.webelement.WebElement (session=\"8df30cf41e2dc058d75296ff67db6830\", element=\"85F1F17B43E5B35AB14952950C637F6E_element_179\")>, <selenium.webdriver.remote.webelement.WebElement (session=\"8df30cf41e2dc058d75296ff67db6830\", element=\"85F1F17B43E5B35AB14952950C637F6E_element_180\")>, <selenium.webdriver.remote.webelement.WebElement (session=\"8df30cf41e2dc058d75296ff67db6830\", element=\"85F1F17B43E5B35AB14952950C637F6E_element_181\")>, <selenium.webdriver.remote.webelement.WebElement (session=\"8df30cf41e2dc058d75296ff67db6830\", element=\"85F1F17B43E5B35AB14952950C637F6E_element_182\")>, <selenium.webdriver.remote.webelement.WebElement (session=\"8df30cf41e2dc058d75296ff67db6830\", element=\"85F1F17B43E5B35AB14952950C637F6E_element_183\")>, <selenium.webdriver.remote.webelement.WebElement (session=\"8df30cf41e2dc058d75296ff67db6830\", element=\"85F1F17B43E5B35AB14952950C637F6E_element_184\")>, <selenium.webdriver.remote.webelement.WebElement (session=\"8df30cf41e2dc058d75296ff67db6830\", element=\"85F1F17B43E5B35AB14952950C637F6E_element_185\")>, <selenium.webdriver.remote.webelement.WebElement (session=\"8df30cf41e2dc058d75296ff67db6830\", element=\"85F1F17B43E5B35AB14952950C637F6E_element_186\")>, <selenium.webdriver.remote.webelement.WebElement (session=\"8df30cf41e2dc058d75296ff67db6830\", element=\"85F1F17B43E5B35AB14952950C637F6E_element_187\")>, <selenium.webdriver.remote.webelement.WebElement (session=\"8df30cf41e2dc058d75296ff67db6830\", element=\"85F1F17B43E5B35AB14952950C637F6E_element_188\")>, <selenium.webdriver.remote.webelement.WebElement (session=\"8df30cf41e2dc058d75296ff67db6830\", element=\"85F1F17B43E5B35AB14952950C637F6E_element_189\")>, <selenium.webdriver.remote.webelement.WebElement (session=\"8df30cf41e2dc058d75296ff67db6830\", element=\"85F1F17B43E5B35AB14952950C637F6E_element_190\")>, <selenium.webdriver.remote.webelement.WebElement (session=\"8df30cf41e2dc058d75296ff67db6830\", element=\"85F1F17B43E5B35AB14952950C637F6E_element_191\")>, <selenium.webdriver.remote.webelement.WebElement (session=\"8df30cf41e2dc058d75296ff67db6830\", element=\"85F1F17B43E5B35AB14952950C637F6E_element_192\")>, <selenium.webdriver.remote.webelement.WebElement (session=\"8df30cf41e2dc058d75296ff67db6830\", element=\"85F1F17B43E5B35AB14952950C637F6E_element_193\")>, <selenium.webdriver.remote.webelement.WebElement (session=\"8df30cf41e2dc058d75296ff67db6830\", element=\"85F1F17B43E5B35AB14952950C637F6E_element_194\")>, <selenium.webdriver.remote.webelement.WebElement (session=\"8df30cf41e2dc058d75296ff67db6830\", element=\"85F1F17B43E5B35AB14952950C637F6E_element_195\")>, <selenium.webdriver.remote.webelement.WebElement (session=\"8df30cf41e2dc058d75296ff67db6830\", element=\"85F1F17B43E5B35AB14952950C637F6E_element_196\")>, <selenium.webdriver.remote.webelement.WebElement (session=\"8df30cf41e2dc058d75296ff67db6830\", element=\"85F1F17B43E5B35AB14952950C637F6E_element_197\")>, <selenium.webdriver.remote.webelement.WebElement (session=\"8df30cf41e2dc058d75296ff67db6830\", element=\"85F1F17B43E5B35AB14952950C637F6E_element_198\")>, <selenium.webdriver.remote.webelement.WebElement (session=\"8df30cf41e2dc058d75296ff67db6830\", element=\"85F1F17B43E5B35AB14952950C637F6E_element_199\")>, <selenium.webdriver.remote.webelement.WebElement (session=\"8df30cf41e2dc058d75296ff67db6830\", element=\"85F1F17B43E5B35AB14952950C637F6E_element_200\")>, <selenium.webdriver.remote.webelement.WebElement (session=\"8df30cf41e2dc058d75296ff67db6830\", element=\"85F1F17B43E5B35AB14952950C637F6E_element_201\")>, <selenium.webdriver.remote.webelement.WebElement (session=\"8df30cf41e2dc058d75296ff67db6830\", element=\"85F1F17B43E5B35AB14952950C637F6E_element_202\")>, <selenium.webdriver.remote.webelement.WebElement (session=\"8df30cf41e2dc058d75296ff67db6830\", element=\"85F1F17B43E5B35AB14952950C637F6E_element_203\")>, <selenium.webdriver.remote.webelement.WebElement (session=\"8df30cf41e2dc058d75296ff67db6830\", element=\"85F1F17B43E5B35AB14952950C637F6E_element_204\")>, <selenium.webdriver.remote.webelement.WebElement (session=\"8df30cf41e2dc058d75296ff67db6830\", element=\"85F1F17B43E5B35AB14952950C637F6E_element_205\")>, <selenium.webdriver.remote.webelement.WebElement (session=\"8df30cf41e2dc058d75296ff67db6830\", element=\"85F1F17B43E5B35AB14952950C637F6E_element_206\")>, <selenium.webdriver.remote.webelement.WebElement (session=\"8df30cf41e2dc058d75296ff67db6830\", element=\"85F1F17B43E5B35AB14952950C637F6E_element_207\")>, <selenium.webdriver.remote.webelement.WebElement (session=\"8df30cf41e2dc058d75296ff67db6830\", element=\"85F1F17B43E5B35AB14952950C637F6E_element_208\")>, <selenium.webdriver.remote.webelement.WebElement (session=\"8df30cf41e2dc058d75296ff67db6830\", element=\"85F1F17B43E5B35AB14952950C637F6E_element_209\")>, <selenium.webdriver.remote.webelement.WebElement (session=\"8df30cf41e2dc058d75296ff67db6830\", element=\"85F1F17B43E5B35AB14952950C637F6E_element_210\")>, <selenium.webdriver.remote.webelement.WebElement (session=\"8df30cf41e2dc058d75296ff67db6830\", element=\"85F1F17B43E5B35AB14952950C637F6E_element_211\")>, <selenium.webdriver.remote.webelement.WebElement (session=\"8df30cf41e2dc058d75296ff67db6830\", element=\"85F1F17B43E5B35AB14952950C637F6E_element_212\")>, <selenium.webdriver.remote.webelement.WebElement (session=\"8df30cf41e2dc058d75296ff67db6830\", element=\"85F1F17B43E5B35AB14952950C637F6E_element_213\")>]\n"
     ]
    }
   ],
   "source": [
    "from selenium import webdriver\n",
    "from selenium.webdriver.chrome.service import Service\n",
    "from selenium.webdriver.common.by import By\n",
    "from selenium.webdriver.support.wait import WebDriverWait\n",
    "from selenium.webdriver.support import expected_conditions as EC\n",
    "from selenium.webdriver.common.keys import Keys  #模擬按鍵\n",
    "from selenium.webdriver.chrome.options import Options  #設定要關掉小鈴鐺\n",
    "# 抓chromedriver放的路徑\n",
    "service = Service(executable_path = \"C:\\\\Users\\\\User\\\\Desktop\\\\Aiot\\\\chromedriver-win64\\\\chromedriver.exe\")\n",
    "driver = webdriver.Chrome(service=service)\n",
    "#抓網址\n",
    "driver.get(\"https://www.google.com/\")\n",
    "name = WebDriverWait(driver,30).until(EC.element_to_be_clickable((By.CSS_SELECTOR,\"textarea[title='Google 搜尋']\")))\n",
    "print(name.get_attribute(\"type\"))\n",
    "name.send_keys(\"狗\")\n",
    "name.send_keys(Keys.ENTER)\n",
    "driver.find_element(By.XPATH,('//*[text()=\"圖片\"]')).click()\n",
    "driver.find_element(By.XPATH,('//*[text()=\"工具\"]')).click()\n",
    "driver.find_element(By.XPATH,('//*[text()=\"大小\"]')).click()\n",
    "driver.find_element(By.XPATH,('//*[text()=\"大\"]')).click()\n",
    "login = WebDriverWait(driver,30).until(EC.element_to_be_clickable((By.CSS_SELECTOR,\"img[src='data:image/jpeg;base64,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'\")))\n",
    "login.click()\n",
    "login2 = WebDriverWait(driver,30).until(EC.element_to_be_clickable((By.CSS_SELECTOR,\"a[href='https://www.4gamers.com.tw/saged/detail/oedr146r71937l']\")))\n",
    "login2.click()\n",
    "anchor = driver.find_elements(By.CLASS_NAME,(\"wXeWr\"))\n",
    "print (anchor)\n",
    "# anchor_list = []\n",
    "# for img in anchor[:5]:\n",
    "#     try:\n",
    "# #         img.click()\n",
    "#         anchor_list.append(img.get_attribute(\"href\"))  \n",
    "        \n",
    "#     except:\n",
    "#         pass\n",
    "# print(anchor_list)\n",
    "# 方法1\n",
    "# # srclist=[]\n",
    "# # for i in anchor_list:\n",
    "# #     driver.get(i)\n",
    "# #     for j in driver.find_elements(By.CLASS_NAME,(\"r48jcc\")):\n",
    "# #         srclist.append(j.get_attribute(\"src\"))\n",
    "# # print(srclist)\n",
    "# # 方法2\n",
    "# # pic = []\n",
    "# # url = []\n",
    "# # for url in anchor_list:\n",
    "# #     try:\n",
    "# #         driver.get(url)\n",
    "# #         img = WebDriverWait(driver,30).until(EC.element_to_be_clickable((By.CSS_SELECTOR,'img[class=\"r48jcc pT0Scc iPVvYb\"]')))\n",
    "# #         pic.append(img.get_attribute(\"src\"))\n",
    "# #         print(img.get_attribute(\"src\"))\n",
    "# #     except:\n",
    "# #         print(url)\n",
    "# # print(pic)\n"
   ]
  },
  {
   "cell_type": "code",
   "execution_count": null,
   "id": "e26462d5",
   "metadata": {},
   "outputs": [],
   "source": []
  },
  {
   "cell_type": "code",
   "execution_count": null,
   "id": "e29f3611",
   "metadata": {},
   "outputs": [],
   "source": []
  },
  {
   "cell_type": "code",
   "execution_count": 45,
   "id": "d5ef40f6",
   "metadata": {},
   "outputs": [
    {
     "name": "stdout",
     "output_type": "stream",
     "text": [
      "https://www.google.com/imgres?imgurl=https%3A%2F%2Fugc-media.4gamers.com.tw%2Fpuku-prod-zh%2Fmember%2FgX2PQnQ7FapzgjbbZUWYrzbYmXA%2Fmondou%2F803dbd99-af8d-42e0-984f-0fbe58e834d7.jpg&tbnid=rFIMGhwezeJwtM&vet=12ahUKEwiAkbusntSAAxUTGYgKHWdrA0MQMygAegUIARDwAQ..i&imgrefurl=https%3A%2F%2Fwww.4gamers.com.tw%2Fsaged%2Fdetail%2Foedr146r71937l&docid=itYsrRt0crXOuM&w=1280&h=1280&q=%E7%8B%97&hl=zh-TW&ved=2ahUKEwiAkbusntSAAxUTGYgKHWdrA0MQMygAegUIARDwAQ\n",
      "https://www.google.com/imgres?imgurl=https%3A%2F%2Fgeneonline.news%2Fwp-content%2Fuploads%2F2023%2F03%2F166089420_m_normal_none.jpg&tbnid=kD5S923vTF7ieM&vet=12ahUKEwiAkbusntSAAxUTGYgKHWdrA0MQMygBegUIARDyAQ..i&imgrefurl=https%3A%2F%2Fgeneonline.news%2Fdog-and-neural-development%2F&docid=exnVIRPFTHvwhM&w=2379&h=1763&q=%E7%8B%97&hl=zh-TW&ved=2ahUKEwiAkbusntSAAxUTGYgKHWdrA0MQMygBegUIARDyAQ\n",
      "https://www.google.com/imgres?imgurl=https%3A%2F%2Fcdn.hk01.com%2Fdi%2Fmedia%2Fimages%2F1748908%2Forg%2F9ab92913858a9777ad41b22d5106e1b1.jpg%2F3Sr8HAlz0PniqgXVD3-Zwm68ETQnL6F-4vUMs-L1DLM%3Fv%3Dw1920&tbnid=jtVPWrcshxPwsM&vet=12ahUKEwiAkbusntSAAxUTGYgKHWdrA0MQMygCegUIARD0AQ..i&imgrefurl=https%3A%2F%2Fwww.hk01.com%2F%25E5%25AF%25B5%25E7%2589%25A9%2F222562%2F%25E7%258B%2597-%25E7%259F%25A5%25E8%25AD%2598-%25E7%258B%2597%25E7%258B%2597%25E6%2598%25AF%25E8%25AA%25AA%25E8%25AC%258A%25E9%25AB%2598%25E6%2589%258B-%25E5%25BF%2583%25E7%2590%2586%25E6%25B8%25AC%25E8%25A9%25A6%25E8%25AD%2589%25E5%25AF%25A6%25E7%258B%2597%25E7%258B%2597%25E6%259C%2583%25E7%2582%25BA%25E9%25A3%259F%25E7%2589%25A9%25E8%25AC%259B%25E5%25A4%25A7%25E8%25A9%25B1&docid=njlFXyAkeCGCYM&w=1920&h=1081&q=%E7%8B%97&hl=zh-TW&ved=2ahUKEwiAkbusntSAAxUTGYgKHWdrA0MQMygCegUIARD0AQ\n",
      "https://www.google.com/imgres?imgurl=https%3A%2F%2Fcdn.hk01.com%2Fdi%2Fmedia%2Fimages%2Fdw%2F20220311%2F579002352044871680354682.jpeg%2FRnWoowUwUaWbUjTraVyj-6FYMm_TH-eUtdIZk7XSGZM%3Fv%3Dw1920r16_9&tbnid=DvMwdo3E4LxS_M&vet=12ahUKEwiAkbusntSAAxUTGYgKHWdrA0MQMygDegUIARD2AQ..i&imgrefurl=https%3A%2F%2Fwww.hk01.com%2F%25E5%25AF%25B5%25E7%2589%25A9%2F750339%2F%25E6%2596%25B0%25E6%2589%258B%25E9%25A4%258A%25E7%258B%2597%25E5%25BF%2585%25E8%25AE%2580-%25E5%25BE%259E%25E5%2581%25A5%25E5%25BA%25B7%25E9%25A3%25B2%25E9%25A3%259F%25E5%2588%25B0%25E9%2586%25AB%25E7%2599%2582%25E7%25B5%2595%25E8%2582%25B2%25E5%2595%258F%25E9%25A1%258C-0-1%25E6%25AD%25B2%25E5%25B9%25BC%25E7%258A%25AC%25E7%2585%25A7%25E9%25A1%25A7%25E6%258C%2587%25E5%258D%2597&docid=z36iRoqCufFfSM&w=1920&h=1080&q=%E7%8B%97&hl=zh-TW&ved=2ahUKEwiAkbusntSAAxUTGYgKHWdrA0MQMygDegUIARD2AQ\n",
      "https://www.google.com/imgres?imgurl=https%3A%2F%2Fcdn2.ettoday.net%2Fimages%2F7169%2F7169290.jpg&tbnid=qdcsE1iyjHFQBM&vet=12ahUKEwiAkbusntSAAxUTGYgKHWdrA0MQMygEegUIARD4AQ..i&imgrefurl=https%3A%2F%2Fwww.ettoday.net%2Fdalemon%2Fpost%2F67823&docid=pYxN1y8ycZ-39M&w=4000&h=2250&q=%E7%8B%97&hl=zh-TW&ved=2ahUKEwiAkbusntSAAxUTGYgKHWdrA0MQMygEegUIARD4AQ\n",
      "[]\n"
     ]
    }
   ],
   "source": [
    "pic = []\n",
    "url = []\n",
    "for url in anchor_list:\n",
    "    try:\n",
    "        driver.get(url)\n",
    "        img = WebDriverWait(driver,30).until(EC.element_to_be_clickable((By.CSS_SELECTOR,'img[class=\"r48jcc pT0Scc iPVvYb\"]')))\n",
    "        pic.append(img.get_attribute(\"src\"))\n",
    "        print(img.get_attribute(\"src\"))\n",
    "    except:\n",
    "        print(url)\n",
    "print(pic)"
   ]
  },
  {
   "cell_type": "code",
   "execution_count": 22,
   "id": "66811262",
   "metadata": {},
   "outputs": [
    {
     "name": "stdout",
     "output_type": "stream",
     "text": [
      "Collecting wget\n",
      "  Downloading wget-3.2.zip (10 kB)\n",
      "  Preparing metadata (setup.py) ... \u001b[?25ldone\n",
      "\u001b[?25hBuilding wheels for collected packages: wget\n",
      "  Building wheel for wget (setup.py) ... \u001b[?25ldone\n",
      "\u001b[?25h  Created wheel for wget: filename=wget-3.2-py3-none-any.whl size=9656 sha256=c3f6bacb941bfae292a8fb75a218f92722294c5651d7129e3e15a55614225b45\n",
      "  Stored in directory: /Users/lvhongxiang/Library/Caches/pip/wheels/46/78/0e/8e5e2b500f83a682c8d7e7ce820638cf99faa894a662f71cf0\n",
      "Successfully built wget\n",
      "Installing collected packages: wget\n",
      "Successfully installed wget-3.2\n"
     ]
    }
   ],
   "source": [
    "!pip install wget\n"
   ]
  },
  {
   "cell_type": "code",
   "execution_count": 36,
   "id": "5eecddc3",
   "metadata": {},
   "outputs": [
    {
     "name": "stdout",
     "output_type": "stream",
     "text": [
      "/Users/lvhongxiang/chackpoint/Aiot/狗狗\n"
     ]
    }
   ],
   "source": [
    "import os \n",
    "path = os.getcwd()\n",
    "path = os.path.join(path,\"狗狗\")\n",
    "os.mkdir(path)\n",
    "print(path)"
   ]
  },
  {
   "cell_type": "code",
   "execution_count": 47,
   "id": "a993d902",
   "metadata": {},
   "outputs": [
    {
     "name": "stdout",
     "output_type": "stream",
     "text": [
      "100% [..........................................................] 621757 / 621757/Users/lvhongxiang/chackpoint/Aiot/狗狗/狗狗1.jpg\n",
      "100% [..........................................................] 213761 / 213761/Users/lvhongxiang/chackpoint/Aiot/狗狗/狗狗2.jpg\n",
      "100% [..........................................................] 278604 / 278604/Users/lvhongxiang/chackpoint/Aiot/狗狗/狗狗3.jpg\n",
      "100% [........................................................] 1550586 / 1550586/Users/lvhongxiang/chackpoint/Aiot/狗狗/狗狗4.jpg\n"
     ]
    }
   ],
   "source": [
    "import wget\n",
    "n=0\n",
    "for img in pic:\n",
    "    n += 1\n",
    "    try:\n",
    "        file = os.path.join(path,\"狗狗\"+str(n)+\".jpg\")\n",
    "        if os.path.exists(file):\n",
    "            os.remove(file)\n",
    "        wget.download(img,file)\n",
    "        print(file)\n",
    "    except:\n",
    "        print(img)"
   ]
  },
  {
   "cell_type": "code",
   "execution_count": 20,
   "id": "14e799da",
   "metadata": {},
   "outputs": [
    {
     "ename": "NoSuchWindowException",
     "evalue": "Message: no such window: target window already closed\nfrom unknown error: web view not found\n  (Session info: chrome=115.0.5790.170)\nStacktrace:\n0   chromedriver                        0x0000000101044af8 chromedriver + 4987640\n1   chromedriver                        0x000000010103beb3 chromedriver + 4951731\n2   chromedriver                        0x0000000100bef8d7 chromedriver + 444631\n3   chromedriver                        0x0000000100bc2681 chromedriver + 259713\n4   chromedriver                        0x0000000100c60eaf chromedriver + 908975\n5   chromedriver                        0x0000000100c76316 chromedriver + 996118\n6   chromedriver                        0x0000000100c5b8e3 chromedriver + 887011\n7   chromedriver                        0x0000000100c279b9 chromedriver + 674233\n8   chromedriver                        0x0000000100c28b9e chromedriver + 678814\n9   chromedriver                        0x0000000101000dc9 chromedriver + 4709833\n10  chromedriver                        0x0000000101005de4 chromedriver + 4730340\n11  chromedriver                        0x000000010100cc99 chromedriver + 4758681\n12  chromedriver                        0x0000000101006b3a chromedriver + 4733754\n13  chromedriver                        0x0000000100fda35c chromedriver + 4551516\n14  chromedriver                        0x0000000101024908 chromedriver + 4856072\n15  chromedriver                        0x0000000101024a87 chromedriver + 4856455\n16  chromedriver                        0x0000000101034def chromedriver + 4922863\n17  libsystem_pthread.dylib             0x00007ff81c48a4f4 _pthread_start + 125\n18  libsystem_pthread.dylib             0x00007ff81c48600f thread_start + 15\n",
     "output_type": "error",
     "traceback": [
      "\u001b[0;31m---------------------------------------------------------------------------\u001b[0m",
      "\u001b[0;31mNoSuchWindowException\u001b[0m                     Traceback (most recent call last)",
      "Cell \u001b[0;32mIn[20], line 12\u001b[0m\n\u001b[1;32m     10\u001b[0m srclist\u001b[38;5;241m=\u001b[39m[]\n\u001b[1;32m     11\u001b[0m \u001b[38;5;28;01mfor\u001b[39;00m i \u001b[38;5;129;01min\u001b[39;00m anchor_list:\n\u001b[0;32m---> 12\u001b[0m     \u001b[43mdriver\u001b[49m\u001b[38;5;241;43m.\u001b[39;49m\u001b[43mget\u001b[49m\u001b[43m(\u001b[49m\u001b[43mi\u001b[49m\u001b[43m)\u001b[49m\n\u001b[1;32m     13\u001b[0m     \u001b[38;5;28;01mfor\u001b[39;00m j \u001b[38;5;129;01min\u001b[39;00m driver\u001b[38;5;241m.\u001b[39mfind_elements(By\u001b[38;5;241m.\u001b[39mCLASS_NAME,(\u001b[38;5;124m\"\u001b[39m\u001b[38;5;124mr48jcc\u001b[39m\u001b[38;5;124m\"\u001b[39m)):\n\u001b[1;32m     14\u001b[0m         srclist\u001b[38;5;241m.\u001b[39mappend(j\u001b[38;5;241m.\u001b[39mget_attribute(\u001b[38;5;124m\"\u001b[39m\u001b[38;5;124msrc\u001b[39m\u001b[38;5;124m\"\u001b[39m))\n",
      "File \u001b[0;32m~/anaconda3/lib/python3.10/site-packages/selenium/webdriver/remote/webdriver.py:354\u001b[0m, in \u001b[0;36mWebDriver.get\u001b[0;34m(self, url)\u001b[0m\n\u001b[1;32m    352\u001b[0m \u001b[38;5;28;01mdef\u001b[39;00m \u001b[38;5;21mget\u001b[39m(\u001b[38;5;28mself\u001b[39m, url: \u001b[38;5;28mstr\u001b[39m) \u001b[38;5;241m-\u001b[39m\u001b[38;5;241m>\u001b[39m \u001b[38;5;28;01mNone\u001b[39;00m:\n\u001b[1;32m    353\u001b[0m     \u001b[38;5;124;03m\"\"\"Loads a web page in the current browser session.\"\"\"\u001b[39;00m\n\u001b[0;32m--> 354\u001b[0m     \u001b[38;5;28;43mself\u001b[39;49m\u001b[38;5;241;43m.\u001b[39;49m\u001b[43mexecute\u001b[49m\u001b[43m(\u001b[49m\u001b[43mCommand\u001b[49m\u001b[38;5;241;43m.\u001b[39;49m\u001b[43mGET\u001b[49m\u001b[43m,\u001b[49m\u001b[43m \u001b[49m\u001b[43m{\u001b[49m\u001b[38;5;124;43m\"\u001b[39;49m\u001b[38;5;124;43murl\u001b[39;49m\u001b[38;5;124;43m\"\u001b[39;49m\u001b[43m:\u001b[49m\u001b[43m \u001b[49m\u001b[43murl\u001b[49m\u001b[43m}\u001b[49m\u001b[43m)\u001b[49m\n",
      "File \u001b[0;32m~/anaconda3/lib/python3.10/site-packages/selenium/webdriver/remote/webdriver.py:345\u001b[0m, in \u001b[0;36mWebDriver.execute\u001b[0;34m(self, driver_command, params)\u001b[0m\n\u001b[1;32m    343\u001b[0m response \u001b[38;5;241m=\u001b[39m \u001b[38;5;28mself\u001b[39m\u001b[38;5;241m.\u001b[39mcommand_executor\u001b[38;5;241m.\u001b[39mexecute(driver_command, params)\n\u001b[1;32m    344\u001b[0m \u001b[38;5;28;01mif\u001b[39;00m response:\n\u001b[0;32m--> 345\u001b[0m     \u001b[38;5;28;43mself\u001b[39;49m\u001b[38;5;241;43m.\u001b[39;49m\u001b[43merror_handler\u001b[49m\u001b[38;5;241;43m.\u001b[39;49m\u001b[43mcheck_response\u001b[49m\u001b[43m(\u001b[49m\u001b[43mresponse\u001b[49m\u001b[43m)\u001b[49m\n\u001b[1;32m    346\u001b[0m     response[\u001b[38;5;124m\"\u001b[39m\u001b[38;5;124mvalue\u001b[39m\u001b[38;5;124m\"\u001b[39m] \u001b[38;5;241m=\u001b[39m \u001b[38;5;28mself\u001b[39m\u001b[38;5;241m.\u001b[39m_unwrap_value(response\u001b[38;5;241m.\u001b[39mget(\u001b[38;5;124m\"\u001b[39m\u001b[38;5;124mvalue\u001b[39m\u001b[38;5;124m\"\u001b[39m, \u001b[38;5;28;01mNone\u001b[39;00m))\n\u001b[1;32m    347\u001b[0m     \u001b[38;5;28;01mreturn\u001b[39;00m response\n",
      "File \u001b[0;32m~/anaconda3/lib/python3.10/site-packages/selenium/webdriver/remote/errorhandler.py:229\u001b[0m, in \u001b[0;36mErrorHandler.check_response\u001b[0;34m(self, response)\u001b[0m\n\u001b[1;32m    227\u001b[0m         alert_text \u001b[38;5;241m=\u001b[39m value[\u001b[38;5;124m\"\u001b[39m\u001b[38;5;124malert\u001b[39m\u001b[38;5;124m\"\u001b[39m]\u001b[38;5;241m.\u001b[39mget(\u001b[38;5;124m\"\u001b[39m\u001b[38;5;124mtext\u001b[39m\u001b[38;5;124m\"\u001b[39m)\n\u001b[1;32m    228\u001b[0m     \u001b[38;5;28;01mraise\u001b[39;00m exception_class(message, screen, stacktrace, alert_text)  \u001b[38;5;66;03m# type: ignore[call-arg]  # mypy is not smart enough here\u001b[39;00m\n\u001b[0;32m--> 229\u001b[0m \u001b[38;5;28;01mraise\u001b[39;00m exception_class(message, screen, stacktrace)\n",
      "\u001b[0;31mNoSuchWindowException\u001b[0m: Message: no such window: target window already closed\nfrom unknown error: web view not found\n  (Session info: chrome=115.0.5790.170)\nStacktrace:\n0   chromedriver                        0x0000000101044af8 chromedriver + 4987640\n1   chromedriver                        0x000000010103beb3 chromedriver + 4951731\n2   chromedriver                        0x0000000100bef8d7 chromedriver + 444631\n3   chromedriver                        0x0000000100bc2681 chromedriver + 259713\n4   chromedriver                        0x0000000100c60eaf chromedriver + 908975\n5   chromedriver                        0x0000000100c76316 chromedriver + 996118\n6   chromedriver                        0x0000000100c5b8e3 chromedriver + 887011\n7   chromedriver                        0x0000000100c279b9 chromedriver + 674233\n8   chromedriver                        0x0000000100c28b9e chromedriver + 678814\n9   chromedriver                        0x0000000101000dc9 chromedriver + 4709833\n10  chromedriver                        0x0000000101005de4 chromedriver + 4730340\n11  chromedriver                        0x000000010100cc99 chromedriver + 4758681\n12  chromedriver                        0x0000000101006b3a chromedriver + 4733754\n13  chromedriver                        0x0000000100fda35c chromedriver + 4551516\n14  chromedriver                        0x0000000101024908 chromedriver + 4856072\n15  chromedriver                        0x0000000101024a87 chromedriver + 4856455\n16  chromedriver                        0x0000000101034def chromedriver + 4922863\n17  libsystem_pthread.dylib             0x00007ff81c48a4f4 _pthread_start + 125\n18  libsystem_pthread.dylib             0x00007ff81c48600f thread_start + 15\n"
     ]
    }
   ],
   "source": [
    "anchor = driver.find_elements(By.CLASS_NAME,(\"wXeWr\"))\n",
    "anchor_list = []\n",
    "for img in anchor:\n",
    "    try:\n",
    "        img.click()\n",
    "        anchor_list.append(img.get_attribute(\"href\"))   \n",
    "#         print(anchor_list)\n",
    "    except:\n",
    "        pass\n",
    "srclist=[]\n",
    "for i in anchor_list:\n",
    "    driver.get(i)\n",
    "    for j in driver.find_elements(By.CLASS_NAME,(\"r48jcc\")):\n",
    "        srclist.append(j.get_attribute(\"src\"))\n",
    "print(srclist)"
   ]
  },
  {
   "cell_type": "code",
   "execution_count": 12,
   "id": "93befa4e",
   "metadata": {},
   "outputs": [
    {
     "ename": "StaleElementReferenceException",
     "evalue": "Message: stale element reference: stale element not found\n  (Session info: chrome=115.0.5790.170); For documentation on this error, please visit: https://www.selenium.dev/documentation/webdriver/troubleshooting/errors#stale-element-reference-exception\nStacktrace:\n0   chromedriver                        0x0000000105022af8 chromedriver + 4987640\n1   chromedriver                        0x0000000105019eb3 chromedriver + 4951731\n2   chromedriver                        0x0000000104bcd8d7 chromedriver + 444631\n3   chromedriver                        0x0000000104bddae9 chromedriver + 510697\n4   chromedriver                        0x0000000104bd33f4 chromedriver + 467956\n5   chromedriver                        0x0000000104bd34d1 chromedriver + 468177\n6   chromedriver                        0x0000000104bd1a47 chromedriver + 461383\n7   chromedriver                        0x0000000104bd51ef chromedriver + 475631\n8   chromedriver                        0x0000000104c55743 chromedriver + 1001283\n9   chromedriver                        0x0000000104c39b12 chromedriver + 887570\n10  chromedriver                        0x0000000104c54d31 chromedriver + 998705\n11  chromedriver                        0x0000000104c398e3 chromedriver + 887011\n12  chromedriver                        0x0000000104c059b9 chromedriver + 674233\n13  chromedriver                        0x0000000104c06b9e chromedriver + 678814\n14  chromedriver                        0x0000000104fdedc9 chromedriver + 4709833\n15  chromedriver                        0x0000000104fe3de4 chromedriver + 4730340\n16  chromedriver                        0x0000000104feac99 chromedriver + 4758681\n17  chromedriver                        0x0000000104fe4b3a chromedriver + 4733754\n18  chromedriver                        0x0000000104fb835c chromedriver + 4551516\n19  chromedriver                        0x0000000105002908 chromedriver + 4856072\n20  chromedriver                        0x0000000105002a87 chromedriver + 4856455\n21  chromedriver                        0x0000000105012def chromedriver + 4922863\n22  libsystem_pthread.dylib             0x00007ff81c48a4f4 _pthread_start + 125\n23  libsystem_pthread.dylib             0x00007ff81c48600f thread_start + 15\n",
     "output_type": "error",
     "traceback": [
      "\u001b[0;31m---------------------------------------------------------------------------\u001b[0m",
      "\u001b[0;31mStaleElementReferenceException\u001b[0m            Traceback (most recent call last)",
      "Cell \u001b[0;32mIn[12], line 1\u001b[0m\n\u001b[0;32m----> 1\u001b[0m \u001b[38;5;28mprint\u001b[39m(\u001b[43mname\u001b[49m\u001b[38;5;241;43m.\u001b[39;49m\u001b[43mget_attribute\u001b[49m\u001b[43m(\u001b[49m\u001b[38;5;124;43m\"\u001b[39;49m\u001b[38;5;124;43mhref\u001b[39;49m\u001b[38;5;124;43m\"\u001b[39;49m\u001b[43m)\u001b[49m)\n",
      "File \u001b[0;32m~/anaconda3/lib/python3.10/site-packages/selenium/webdriver/remote/webelement.py:178\u001b[0m, in \u001b[0;36mWebElement.get_attribute\u001b[0;34m(self, name)\u001b[0m\n\u001b[1;32m    176\u001b[0m \u001b[38;5;28;01mif\u001b[39;00m getAttribute_js \u001b[38;5;129;01mis\u001b[39;00m \u001b[38;5;28;01mNone\u001b[39;00m:\n\u001b[1;32m    177\u001b[0m     _load_js()\n\u001b[0;32m--> 178\u001b[0m attribute_value \u001b[38;5;241m=\u001b[39m \u001b[38;5;28;43mself\u001b[39;49m\u001b[38;5;241;43m.\u001b[39;49m\u001b[43mparent\u001b[49m\u001b[38;5;241;43m.\u001b[39;49m\u001b[43mexecute_script\u001b[49m\u001b[43m(\u001b[49m\n\u001b[1;32m    179\u001b[0m \u001b[43m    \u001b[49m\u001b[38;5;124;43mf\u001b[39;49m\u001b[38;5;124;43m\"\u001b[39;49m\u001b[38;5;124;43m/* getAttribute */return (\u001b[39;49m\u001b[38;5;132;43;01m{\u001b[39;49;00m\u001b[43mgetAttribute_js\u001b[49m\u001b[38;5;132;43;01m}\u001b[39;49;00m\u001b[38;5;124;43m).apply(null, arguments);\u001b[39;49m\u001b[38;5;124;43m\"\u001b[39;49m\u001b[43m,\u001b[49m\u001b[43m \u001b[49m\u001b[38;5;28;43mself\u001b[39;49m\u001b[43m,\u001b[49m\u001b[43m \u001b[49m\u001b[43mname\u001b[49m\n\u001b[1;32m    180\u001b[0m \u001b[43m\u001b[49m\u001b[43m)\u001b[49m\n\u001b[1;32m    181\u001b[0m \u001b[38;5;28;01mreturn\u001b[39;00m attribute_value\n",
      "File \u001b[0;32m~/anaconda3/lib/python3.10/site-packages/selenium/webdriver/remote/webdriver.py:405\u001b[0m, in \u001b[0;36mWebDriver.execute_script\u001b[0;34m(self, script, *args)\u001b[0m\n\u001b[1;32m    402\u001b[0m converted_args \u001b[38;5;241m=\u001b[39m \u001b[38;5;28mlist\u001b[39m(args)\n\u001b[1;32m    403\u001b[0m command \u001b[38;5;241m=\u001b[39m Command\u001b[38;5;241m.\u001b[39mW3C_EXECUTE_SCRIPT\n\u001b[0;32m--> 405\u001b[0m \u001b[38;5;28;01mreturn\u001b[39;00m \u001b[38;5;28;43mself\u001b[39;49m\u001b[38;5;241;43m.\u001b[39;49m\u001b[43mexecute\u001b[49m\u001b[43m(\u001b[49m\u001b[43mcommand\u001b[49m\u001b[43m,\u001b[49m\u001b[43m \u001b[49m\u001b[43m{\u001b[49m\u001b[38;5;124;43m\"\u001b[39;49m\u001b[38;5;124;43mscript\u001b[39;49m\u001b[38;5;124;43m\"\u001b[39;49m\u001b[43m:\u001b[49m\u001b[43m \u001b[49m\u001b[43mscript\u001b[49m\u001b[43m,\u001b[49m\u001b[43m \u001b[49m\u001b[38;5;124;43m\"\u001b[39;49m\u001b[38;5;124;43margs\u001b[39;49m\u001b[38;5;124;43m\"\u001b[39;49m\u001b[43m:\u001b[49m\u001b[43m \u001b[49m\u001b[43mconverted_args\u001b[49m\u001b[43m}\u001b[49m\u001b[43m)\u001b[49m[\u001b[38;5;124m\"\u001b[39m\u001b[38;5;124mvalue\u001b[39m\u001b[38;5;124m\"\u001b[39m]\n",
      "File \u001b[0;32m~/anaconda3/lib/python3.10/site-packages/selenium/webdriver/remote/webdriver.py:345\u001b[0m, in \u001b[0;36mWebDriver.execute\u001b[0;34m(self, driver_command, params)\u001b[0m\n\u001b[1;32m    343\u001b[0m response \u001b[38;5;241m=\u001b[39m \u001b[38;5;28mself\u001b[39m\u001b[38;5;241m.\u001b[39mcommand_executor\u001b[38;5;241m.\u001b[39mexecute(driver_command, params)\n\u001b[1;32m    344\u001b[0m \u001b[38;5;28;01mif\u001b[39;00m response:\n\u001b[0;32m--> 345\u001b[0m     \u001b[38;5;28;43mself\u001b[39;49m\u001b[38;5;241;43m.\u001b[39;49m\u001b[43merror_handler\u001b[49m\u001b[38;5;241;43m.\u001b[39;49m\u001b[43mcheck_response\u001b[49m\u001b[43m(\u001b[49m\u001b[43mresponse\u001b[49m\u001b[43m)\u001b[49m\n\u001b[1;32m    346\u001b[0m     response[\u001b[38;5;124m\"\u001b[39m\u001b[38;5;124mvalue\u001b[39m\u001b[38;5;124m\"\u001b[39m] \u001b[38;5;241m=\u001b[39m \u001b[38;5;28mself\u001b[39m\u001b[38;5;241m.\u001b[39m_unwrap_value(response\u001b[38;5;241m.\u001b[39mget(\u001b[38;5;124m\"\u001b[39m\u001b[38;5;124mvalue\u001b[39m\u001b[38;5;124m\"\u001b[39m, \u001b[38;5;28;01mNone\u001b[39;00m))\n\u001b[1;32m    347\u001b[0m     \u001b[38;5;28;01mreturn\u001b[39;00m response\n",
      "File \u001b[0;32m~/anaconda3/lib/python3.10/site-packages/selenium/webdriver/remote/errorhandler.py:229\u001b[0m, in \u001b[0;36mErrorHandler.check_response\u001b[0;34m(self, response)\u001b[0m\n\u001b[1;32m    227\u001b[0m         alert_text \u001b[38;5;241m=\u001b[39m value[\u001b[38;5;124m\"\u001b[39m\u001b[38;5;124malert\u001b[39m\u001b[38;5;124m\"\u001b[39m]\u001b[38;5;241m.\u001b[39mget(\u001b[38;5;124m\"\u001b[39m\u001b[38;5;124mtext\u001b[39m\u001b[38;5;124m\"\u001b[39m)\n\u001b[1;32m    228\u001b[0m     \u001b[38;5;28;01mraise\u001b[39;00m exception_class(message, screen, stacktrace, alert_text)  \u001b[38;5;66;03m# type: ignore[call-arg]  # mypy is not smart enough here\u001b[39;00m\n\u001b[0;32m--> 229\u001b[0m \u001b[38;5;28;01mraise\u001b[39;00m exception_class(message, screen, stacktrace)\n",
      "\u001b[0;31mStaleElementReferenceException\u001b[0m: Message: stale element reference: stale element not found\n  (Session info: chrome=115.0.5790.170); For documentation on this error, please visit: https://www.selenium.dev/documentation/webdriver/troubleshooting/errors#stale-element-reference-exception\nStacktrace:\n0   chromedriver                        0x0000000105022af8 chromedriver + 4987640\n1   chromedriver                        0x0000000105019eb3 chromedriver + 4951731\n2   chromedriver                        0x0000000104bcd8d7 chromedriver + 444631\n3   chromedriver                        0x0000000104bddae9 chromedriver + 510697\n4   chromedriver                        0x0000000104bd33f4 chromedriver + 467956\n5   chromedriver                        0x0000000104bd34d1 chromedriver + 468177\n6   chromedriver                        0x0000000104bd1a47 chromedriver + 461383\n7   chromedriver                        0x0000000104bd51ef chromedriver + 475631\n8   chromedriver                        0x0000000104c55743 chromedriver + 1001283\n9   chromedriver                        0x0000000104c39b12 chromedriver + 887570\n10  chromedriver                        0x0000000104c54d31 chromedriver + 998705\n11  chromedriver                        0x0000000104c398e3 chromedriver + 887011\n12  chromedriver                        0x0000000104c059b9 chromedriver + 674233\n13  chromedriver                        0x0000000104c06b9e chromedriver + 678814\n14  chromedriver                        0x0000000104fdedc9 chromedriver + 4709833\n15  chromedriver                        0x0000000104fe3de4 chromedriver + 4730340\n16  chromedriver                        0x0000000104feac99 chromedriver + 4758681\n17  chromedriver                        0x0000000104fe4b3a chromedriver + 4733754\n18  chromedriver                        0x0000000104fb835c chromedriver + 4551516\n19  chromedriver                        0x0000000105002908 chromedriver + 4856072\n20  chromedriver                        0x0000000105002a87 chromedriver + 4856455\n21  chromedriver                        0x0000000105012def chromedriver + 4922863\n22  libsystem_pthread.dylib             0x00007ff81c48a4f4 _pthread_start + 125\n23  libsystem_pthread.dylib             0x00007ff81c48600f thread_start + 15\n"
     ]
    }
   ],
   "source": [
    "print(name.get_attribute(\"\"))\n",
    "anchor = driver.find_elements(By.CLASS_NAME,\"wXeWr\")\n",
    "print(anchor)"
   ]
  },
  {
   "cell_type": "code",
   "execution_count": null,
   "id": "7f40b9bc",
   "metadata": {},
   "outputs": [],
   "source": [
    "from bs4 import BeautifulSoup\n",
    "# service = Service(executable_path = \"/Users/lvhongxiang/chackpoint/chromedriver-mac-x64/chromedriver\")\n",
    "# driver = webdriver.Chrome(service=service)\n",
    "# driver.get(\"https://www.google.com/search?q=%E7%8B%97&sca_esv=555729795&source=hp&ei=E5fVZPWSK8Ls1e8PgL2Z4AE&iflsig=AD69kcEAAAAAZNWlI7k_LBWJykj6WIDH6OvRh_J5I2Wz&ved=0ahUKEwi16IGEwtOAAxVCdvUHHYBeBhwQ4dUDCAs&uact=5&oq=%E7%8B%97&gs_lp=Egdnd3Mtd2l6IgPni5cyBRAuGIAEMgsQABiABBixAxiDATILEC4YigUYsQMYgwEyCxAAGIAEGLEDGIMBMggQABiABBixAzILEAAYigUYsQMYgwEyCxAAGIAEGLEDGIMBMgUQABiABDIIEAAYgAQYsQMyCBAuGIAEGLEDSMYKUABYAHAAeACQAQCYAdkCoAHZAqoBAzMtMbgBA8gBAPgBAQ&sclient=gws-wiz\")\n",
    "soup = BeautifulSoup(driver.page_source,\"html.parser\")\n",
    "# jobs = soup.find_all(\"div\",class_=\"iblpc\")\n",
    "# jobs = soup.find_all(\"textarea\",title=\"Google 搜尋\")\n",
    "print(soup)\n",
    "\n",
    "# username = WebDriverWait(driver,30).until(EC.element_to_be_clickable((By.CSS_SELECTOR,\"textarea[title='Google 搜尋']\")))\n",
    "# username.send_keys(\"狗\")\n",
    "# # print(jobs)\n",
    "# login = WebDriverWait(driver,10).until(EC.element_to_be_clickable((By.CSS_SELECTOR,\"a[id=searchjobBtn]\")))\n",
    "# # 點擊登入的\n",
    "# # login.click()\n",
    "# login.send_keys(Keys.ENTER)"
   ]
  },
  {
   "cell_type": "code",
   "execution_count": null,
   "id": "b031b8e5",
   "metadata": {},
   "outputs": [],
   "source": [
    "<a class=\"wXeWr islib nfEiy\" jsname=\"sTFXNd\" tabindex=\"0\" role=\"button\"\n",
    "jsaction=\"J9iaEb;mousedown:npT2md; touchstart:npT2md;\" \n",
    "data-nav=\"1\" style=\"height: 180px;\" \n",
    "href=\"/imgres?imgurl=https%3A%2F%2Fugc-media.4gamers.com.tw%2Fpuku-prod-zh%2Fmember%2FgX2PQnQ7FapzgjbbZUWYrzbYmXA%2Fmondou%2F803dbd99-af8d-42e0-984f-0fbe58e834d7.jpg&amp;tbnid=rFIMGhwezeJwtM&amp;vet=12ahUKEwi3suT6zNOAAxUw0DQHHVaWBmYQMygAegUIARD1AQ..i&amp;imgrefurl=https%3A%2F%2Fwww.4gamers.com.tw%2Fsaged%2Fdetail%2Foedr146r71937l&amp;docid=itYsrRt0crXOuM&amp;w=1280&amp;h=1280&amp;q=%E7%8B%97&amp;hl=zh-TW&amp;ved=2ahUKEwi3suT6zNOAAxUw0DQHHVaWBmYQMygAegUIARD1AQ\" \n",
    "data-navigation=\"server\"><div class=\"bRMDJf islir\" jsname=\"DeysSe\" style=\"margin-left: 73px; margin-right: 72px; height: 225px; margin-top: -37px;\"><img src=\"data:image/jpeg;base64,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\" data-deferred=\"1\" class=\"rg_i Q4LuWd\" jsname=\"Q4LuWd\" width=\"225\" height=\"225\" alt=\"如果要養狗，大家會首推哪種品種？ | 4Gamers\" data-iml=\"1398.6000000014901\" data-atf=\"true\"></div><div class=\"c7cjWc mvjhOe\"></div></a>\n",
    "\n",
    "<img src=\"data:image/jpeg;base64,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\" jsaction=\"VQAsE\" class=\"r48jcc pT0Scc\" alt=\"如果要養狗，大家會首推哪種品種？ | 4Gamers\" jsname=\"JuXqh\" style=\"max-width: 1280px; width: 325px; height: 325px; margin: 0px;\" data-iml=\"467714.5\">\n",
    "<img src=\"data:image/jpeg;base64,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\" data-deferred=\"1\" class=\"rg_i Q4LuWd\" jsname=\"Q4LuWd\" width=\"180\" height=\"180\" alt=\"如果要養狗，大家會首推哪種品種？ | 4Gamers\" data-iml=\"1313\" data-atf=\"true\">\n",
    "\n",
    "\n",
    "\n",
    " <a role=\"link\" tabindex=\"0\" rel=\"noopener\" target=\"_blank\" href=\"https://www.4gamers.com.tw/saged/detail/oedr146r71937l\" jsaction=\"focus:trigger.HTIQtd;mousedown:trigger.HTIQtd;touchstart:trigger.HTIQtd;\" aria-label=\"造訪「4Gamers」\" class=\"Du2c7e\" data-ved=\"0CA4QjRxqFwoTCLivlNXT04ADFQAAAAAdAAAAABAH\"><img src=\"data:image/jpeg;base64,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\" jsaction=\"VQAsE\" class=\"r48jcc pT0Scc\" alt=\"如果要養狗，大家會首推哪種品種？ | 4Gamers\" jsname=\"JuXqh\" style=\"max-width: 1280px; width: 325px; height: 325px; margin: 0px;\" data-iml=\"467714.5\"><span class=\"agI2ne\">1,280 × 1,280</span></a>\n",
    "    \n",
    "    "
   ]
  },
  {
   "cell_type": "code",
   "execution_count": null,
   "id": "056f9b03",
   "metadata": {},
   "outputs": [],
   "source": [
    "importort requests\n",
    "import json\n",
    "\n",
    "payload = json.loads('{\"promotionid\":156847592116227,\"categoryid\":0,\"itemids\":[14935404262,1717333578,670560873,8903205420,1436760706,158220308,12798224013,10098503987,1396599654,5519328843,16173195396,15082693079,10062670988,5850657759,2350392364,19161601768],\"limit\":16,\"with_dp_items\":true}')\n",
    "res = requests.post('https://shopee.tw/api/v4/flash_sale/flash_sale_batch_get_items',json=payload)\n",
    "\n",
    "jd = json.loads(res.text)\n",
    "print(jd)"
   ]
  },
  {
   "cell_type": "code",
   "execution_count": null,
   "id": "4e71c2fe",
   "metadata": {},
   "outputs": [],
   "source": []
  }
 ],
 "metadata": {
  "kernelspec": {
   "display_name": "Python 3 (ipykernel)",
   "language": "python",
   "name": "python3"
  },
  "language_info": {
   "codemirror_mode": {
    "name": "ipython",
    "version": 3
   },
   "file_extension": ".py",
   "mimetype": "text/x-python",
   "name": "python",
   "nbconvert_exporter": "python",
   "pygments_lexer": "ipython3",
   "version": "3.11.4"
  }
 },
 "nbformat": 4,
 "nbformat_minor": 5
}
