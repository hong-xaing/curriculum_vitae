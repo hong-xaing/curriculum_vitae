{
 "cells": [
  {
   "cell_type": "code",
   "execution_count": 48,
   "id": "9f25dc9a",
   "metadata": {},
   "outputs": [
    {
     "name": "stdout",
     "output_type": "stream",
     "text": [
      "台中市西屯區\n",
      "你的名字:鴻祥\n",
      "你的姓氏:呂\n",
      "姓氏: 呂\n"
     ]
    }
   ],
   "source": [
    "\n",
    "class Email:\n",
    "    def set_address(self,address):\n",
    "        print(address)\n",
    "    def set_name(self,firstName,lastName):\n",
    "        print(\"你的名字:\"+firstName)\n",
    "        print(\"你的姓氏:\"+lastName)\n",
    "        self.last_name = lastName\n",
    "    \n",
    "    def show_last_name(self):\n",
    "        print(\"姓氏: \" + self.last_name)\n",
    "#         show_last_name = self.mailLastName\n",
    "#         return show_last_name\n",
    "toTaichungMail = Email()\n",
    "toTaichungMail.set_address(\"台中市西屯區\")\n",
    "# firstName =input(\"請輸入你的名字 : \")\n",
    "# lastName = input(\"請輸入你的姓氏 : \")\n",
    "# youname.set_name(firstName,lastName)\n",
    "toTaichungMail.set_name(\"鴻祥\",\"呂\")\n",
    "toTaichungMail.show_last_name()\n"
   ]
  },
  {
   "cell_type": "code",
   "execution_count": null,
   "id": "8470af88",
   "metadata": {},
   "outputs": [],
   "source": [
    "class Calculator:\n",
    "    def set_value(self,a,b):\n",
    "        self.value = a \n",
    "        self.value = b \n",
    "    def add(self):\n",
    "        c = self.value1 + self.value2\n",
    "        print(c)\n",
    "    def iii(self):\n",
    "        c = self.value1 - self.value2\n",
    "        print(c)\n",
    "        "
   ]
  },
  {
   "cell_type": "code",
   "execution_count": 82,
   "id": "dea20ee4",
   "metadata": {},
   "outputs": [
    {
     "name": "stdout",
     "output_type": "stream",
     "text": [
      "1\n",
      "99\n",
      "99.95\n"
     ]
    }
   ],
   "source": [
    "# class method1 -> 設定血量 , method2 -> 顯示血量\n",
    "class method:\n",
    "    def set_blood(self,a):\n",
    "        self.blood1 = int(a) #設定血量\n",
    "        \n",
    "    def show_blood(self):\n",
    "        c = self.blood1\n",
    "        return (c)\n",
    "# class method1 -> 設定攻擊力 , method2 -> 顯示攻擊力\n",
    "    def set_attack(self,b):\n",
    "        self.attack = int(b)\n",
    "    def show_attack(self):\n",
    "        show_atk = self.attack\n",
    "        return (show_atk)\n",
    "# class method1 -> 設定防禦力 , method2 -> 顯示防禦力\n",
    "    def set_defense(self,c):\n",
    "        self.defense = int(c)\n",
    "    def show_defense(self):\n",
    "        show_def = self.defense\n",
    "        return (show_def)\n",
    "blood = method()\n",
    "blood.set_blood(1)\n",
    "my_blood = blood.show_blood()  #要有人去接他。用ＭＥ接\n",
    "print(my_blood)\n",
    "# ------------------------------------------------------------------------------------------\n",
    "atk = attack()\n",
    "atk.set_attack(100)\n",
    "my_atk = atk.show_attack()\n",
    "print(my_atk-my_blood)\n",
    "# ------------------------------------------------------------------------------------------\n",
    "def_ = Defense()\n",
    "def_.set_defense(20)\n",
    "show_def1 = def_.show_defense()\n",
    "print(show_atk1-(me/(me*show_def1)))\n",
    "\n",
    "\n"
   ]
  },
  {
   "cell_type": "code",
   "execution_count": 94,
   "id": "4655d07e",
   "metadata": {},
   "outputs": [
    {
     "name": "stdout",
     "output_type": "stream",
     "text": [
      "1\n"
     ]
    }
   ],
   "source": [
    "# class method1 -> 設定血量 , method2 -> 顯示血量\n",
    "class method:\n",
    "    def set_blood(self,a):\n",
    "        self.blood1 = int(a) #設定血量\n",
    "        \n",
    "    def show_blood(self):\n",
    "        c = self.blood1\n",
    "        return (c)\n",
    "# class method1 -> 設定攻擊力 , method2 -> 顯示攻擊力\n",
    "    def set_attack(self,b):\n",
    "        self.attack = int(b)\n",
    "    def show_attack(self):\n",
    "        show_atk = self.attack\n",
    "        return (show_atk)\n",
    "# class method1 -> 設定防禦力 , method2 -> 顯示防禦力\n",
    "    def set_defense(self,c):\n",
    "        self.defense = int(c)\n",
    "    def show_defense(self):\n",
    "        show_def = self.defense\n",
    "        return (show_def)\n",
    "hp = method()\n",
    "hp.set_blood(1)\n",
    "my_blood = hp.show_blood()  #要有人去接他。用ＭＥ接\n",
    "print(my_blood)\n",
    "# ------------------------------------------------------------------------------------------\n",
    "atk = attack()\n",
    "atk.set_attack(100)\n",
    "my_atk = atk.show_attack()\n",
    "print(my_atk-my_blood)\n",
    "# ------------------------------------------------------------------------------------------\n",
    "def_ = Defense()\n",
    "def_.set_defense(20)\n",
    "show_def1 = def_.show_defense()\n",
    "print(show_atk1-(me/(me*show_def1)))\n",
    "\n",
    "\n",
    "\n"
   ]
  },
  {
   "cell_type": "code",
   "execution_count": null,
   "id": "4e59e137",
   "metadata": {},
   "outputs": [],
   "source": []
  },
  {
   "cell_type": "code",
   "execution_count": null,
   "id": "837a0f21",
   "metadata": {},
   "outputs": [],
   "source": []
  },
  {
   "cell_type": "code",
   "execution_count": 109,
   "id": "80a6346c",
   "metadata": {},
   "outputs": [
    {
     "name": "stdout",
     "output_type": "stream",
     "text": [
      "8\n",
      "0\n",
      "16\n",
      "1.0\n"
     ]
    }
   ],
   "source": [
    "class Calculator:\n",
    "    def __init__(self,a,b):\n",
    "        self.value1 = a \n",
    "        self.value2 = b \n",
    "    def add(self):\n",
    "        c = self.value1 + self.value2\n",
    "        print(c)\n",
    "    def substract(self):\n",
    "        c = self.value1 - self.value2\n",
    "        print(c)\n",
    "    def multiplication(self):\n",
    "        c = self.value1 * self.value2\n",
    "        print(c)\n",
    "    def division(self):\n",
    "        c = self.value1 / self.value2\n",
    "        print(c)\n",
    "        \n",
    "if __name__ == \"__main__\":\n",
    "    c = Calculator(4,4)\n",
    "    # c.set_value(3,4)\n",
    "    c.add()\n",
    "    c.substract()\n",
    "    c.multiplication()\n",
    "    c.division()"
   ]
  },
  {
   "cell_type": "code",
   "execution_count": 141,
   "id": "32fca948",
   "metadata": {},
   "outputs": [
    {
     "name": "stdout",
     "output_type": "stream",
     "text": [
      "1\n",
      "5\n",
      "8\n",
      "10\n",
      "[2, 6, 9, 11]\n"
     ]
    }
   ],
   "source": [
    "class ListCalculate:\n",
    "    def set_num(self,a):\n",
    "#         for i in a :\n",
    "#             self.num = a\n",
    "        self.num = a \n",
    "    def get_num(self):\n",
    "        c = self.num\n",
    "        print(c)\n",
    "        \n",
    "a = [1,5,8,10]\n",
    "# cal = ListCalculate(a)\n",
    "# b = cal.add_1() #b is all element in a add 1\n",
    "num = ListCalculate()\n",
    "num_add = []\n",
    "for i in a :\n",
    "    num.set_num(i)\n",
    "    num.get_num()\n",
    "    num_add.append(i+1)\n",
    "print(num_add)\n"
   ]
  },
  {
   "cell_type": "code",
   "execution_count": 247,
   "id": "2eb167bd",
   "metadata": {},
   "outputs": [
    {
     "name": "stdout",
     "output_type": "stream",
     "text": [
      "[1, 5, 8, 10]\n"
     ]
    }
   ],
   "source": [
    "\n",
    "class ListCalculate:\n",
    "    def __init__(self,a):\n",
    "        self.num = a  \n",
    "    def add_1(self):\n",
    "        num_add = []\n",
    "        for i in a :\n",
    "            num_add.append(i+1)\n",
    "        return num_add\n",
    "#     def retrieve_elements(self):\n",
    "#         b = len(self.num) // 2\n",
    "#         if len(self.num) > b:\n",
    "#             print(self.num[:2])  \n",
    "#         elif len(self.num) < b:\n",
    "#             print(self.num[-2:])\n",
    "    def retrieve_elements(self):\n",
    "        midpoint = len(self.num) // 2\n",
    "        if len(self.num) % 2 == 0:\n",
    "            elements = self.num[:midpoint]\n",
    "        else:\n",
    "            elements = self.num[:midpoint+1]\n",
    "        print(elements)\n",
    "     #取前面兩個 , 後面兩個  \n",
    "a = [1,5,8,10,15,20,40]\n",
    "cal = ListCalculate(a)\n",
    "cal.retrieve_elements()\n",
    "# c = cal.left()\n",
    "# print(c)\n",
    "# b = cal.add_1() #b is all element in a add 1\n",
    "# print (b)\n",
    "\n",
    "\n"
   ]
  },
  {
   "cell_type": "code",
   "execution_count": null,
   "id": "39870976",
   "metadata": {},
   "outputs": [],
   "source": [
    "email github file.format \n",
    "第一個步驟要做什麼動作。一個一個處理 funtion 很重要\n",
    "假資料\n",
    "讀取檔案\n",
    "send mail的技術"
   ]
  },
  {
   "cell_type": "code",
   "execution_count": null,
   "id": "16bc8b55",
   "metadata": {},
   "outputs": [],
   "source": [
    "personList = get_person_list()\n",
    "personTitle = get_person_title()\n",
    "emailAddress = get_email_address()\n",
    "\n",
    "personList = [,]\n",
    "personTitle = [,]\n",
    "emailAddress = [,]\n",
    "subject = \"參加活動\"\n",
    "txt = \"請參加活動\"\n",
    "for i in range(len(personList)):\n",
    "    s = personList[i]+personTitle[i]\n",
    "    send_email(s,emailAddress[i],subject,txt)\n",
    "    "
   ]
  },
  {
   "cell_type": "code",
   "execution_count": null,
   "id": "48ad455f",
   "metadata": {},
   "outputs": [],
   "source": [
    "# class method1 -> 設定血量 , method2 -> 顯示血量\n",
    "# class 要先set 在get\n",
    "# class method:\n",
    "#     def set_blood(self,hp):\n",
    "#         self.blood1 = int(hp) #設定血量\n",
    "#     def show_blood(self):\n",
    "#         hp = self.blood1\n",
    "#         return (hp)\n",
    "# # class method1 -> 設定攻擊力 , method2 -> 顯示攻擊力\n",
    "#     def set_attack(self,atk):\n",
    "#         self.attack = int(atk)\n",
    "#     def show_attack(self):\n",
    "#         show_atk = self.attack\n",
    "#         return (show_atk)\n",
    "# # class method1 -> 設定防禦力 , method2 -> 顯示防禦力\n",
    "#     def set_defense(self,def_):\n",
    "#         self.defense = int(def_)\n",
    "#     def show_defense(self):\n",
    "#         show_def = self.defense\n",
    "#         return (show_def)\n",
    "# if __name__ == \"__main__\":\n",
    "#     hp = method()\n",
    "#     hp.set_blood(1)\n",
    "#     my_blood = hp.show_blood()  #要有人去接他。用ＭＥ接\n",
    "#     print(my_blood)\n",
    "#     # ------------------------------------------------------------------------------------------\n",
    "#     atk = method()\n",
    "#     atk.set_attack(100)\n",
    "#     my_atk = atk.show_attack()\n",
    "#     print(my_atk)\n",
    "#     # ------------------------------------------------------------------------------------------\n",
    "#     def_ = method()\n",
    "#     def_.set_defense(20)\n",
    "#     my_def = def_.show_defense()\n",
    "#     print(my_def)\n",
    "\n",
    "\n",
    "class Person:\n",
    "    def __init__(self,hp):\n",
    "        self.hp = hp \n",
    "        print(\"person\")\n",
    "\n",
    "    def set_hp(self,hp):\n",
    "        self.hp = hp \n",
    "        return self.hp\n",
    "    \n",
    "    def get_hp(self):\n",
    "        print(self.hp)\n",
    "        return self.hp\n",
    "if __name__ == \"__main__\":\n",
    "    hp = Person(4)\n",
    "    # hp.set_hp(100)\n",
    "    my_hp = hp.get_hp()\n",
    "    print (my_hp)\n",
    "\n",
    "\n"
   ]
  },
  {
   "cell_type": "code",
   "execution_count": null,
   "id": "0fe8b88c",
   "metadata": {},
   "outputs": [],
   "source": [
    "from a0719 import method\n",
    "    \n",
    "hp = method()\n",
    "hp.set_blood(200)\n",
    "my_blood = hp.show_blood()  #要有人去接他。用ＭＥ接\n",
    "print(my_blood)\n",
    "# ------------------------------------------------------------------------------------------\n",
    "atk = method()\n",
    "atk.set_attack(20000)\n",
    "my_atk = atk.show_attack()\n",
    "print(my_atk-my_blood)\n",
    "# ------------------------------------------------------------------------------------------\n",
    "def_ = method()\n",
    "def_.set_defense(20)\n",
    "my_def = def_.show_defense()\n",
    "print(my_def)"
   ]
  }
 ],
 "metadata": {
  "kernelspec": {
   "display_name": "Python 3 (ipykernel)",
   "language": "python",
   "name": "python3"
  },
  "language_info": {
   "codemirror_mode": {
    "name": "ipython",
    "version": 3
   },
   "file_extension": ".py",
   "mimetype": "text/x-python",
   "name": "python",
   "nbconvert_exporter": "python",
   "pygments_lexer": "ipython3",
   "version": "3.10.9"
  }
 },
 "nbformat": 4,
 "nbformat_minor": 5
}
